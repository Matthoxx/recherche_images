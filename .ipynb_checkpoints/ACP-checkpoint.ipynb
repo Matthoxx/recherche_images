{
 "cells": [
  {
   "cell_type": "markdown",
   "metadata": {},
   "source": [
    "# Notebook présentant la méthode utilisée pour réduire les données avec une ACP"
   ]
  },
  {
   "cell_type": "code",
   "execution_count": 7,
   "metadata": {},
   "outputs": [],
   "source": [
    "import numpy as np\n",
    "import matplotlib.pyplot as plt\n",
    "from scipy import linalg\n",
    "from sklearn.decomposition import PCA\n",
    "from sklearn.preprocessing import StandardScaler"
   ]
  },
  {
   "cell_type": "markdown",
   "metadata": {},
   "source": [
    "## import des images et normalisation des données grâce à Standard Scaler"
   ]
  },
  {
   "cell_type": "code",
   "execution_count": 8,
   "metadata": {},
   "outputs": [
    {
     "name": "stdout",
     "output_type": "stream",
     "text": [
      "[[ 0.5186345   0.45883688  0.80803156 ... -0.03590943 -0.05170588\n",
      "   0.15346777]\n",
      " [-0.68069035 -0.62725276 -0.7398418  ...  0.04267557  0.21944463\n",
      "   0.07149704]\n",
      " [ 0.6639813   0.33443546  0.38170815 ... -0.11710391 -0.18388332\n",
      "  -0.09648192]\n",
      " ...\n",
      " [-0.2377859  -0.35220212 -0.41045907 ... -0.4520472  -0.41217086\n",
      "  -0.3944387 ]\n",
      " [-0.32879603 -0.36519706 -0.35208988 ... -0.50640905 -0.51747954\n",
      "  -0.4836887 ]\n",
      " [-0.67493737 -0.6237077  -0.71863145 ... -0.57078    -0.558857\n",
      "  -0.58604234]]\n"
     ]
    }
   ],
   "source": [
    "base = np.load(\"./descripteur_img.npy\")\n",
    "queries = np.load(\"./descripteur_queries.npy\")\n",
    "scaler = StandardScaler()\n",
    "scaler.fit(base)\n",
    "\n",
    "#np array contenant les données normalisées\n",
    "Z = scaler.transform(base)\n",
    "print(Z)"
   ]
  },
  {
   "cell_type": "markdown",
   "metadata": {},
   "source": [
    "## Réalisation d'une ACP gardant 60 axes et calculs des valeurs propres et des composantes principales"
   ]
  },
  {
   "cell_type": "code",
   "execution_count": 9,
   "metadata": {},
   "outputs": [
    {
     "name": "stdout",
     "output_type": "stream",
     "text": [
      "Valeurs propres : \n",
      "[134.62254   125.50339    62.547096   52.115746   33.062675   26.89415\n",
      "  25.203693   24.142616   17.71625    14.860352   13.914412   13.001665\n",
      "  11.064511   10.582261    9.962221    9.437125    8.6889715   8.503243\n",
      "   7.089858    6.7873626   6.2623067   6.120782    5.7700567   5.592163\n",
      "   4.8889923   4.762577    4.5233827   4.3010297   4.0537977   3.87182\n",
      "   3.5884354   3.4093149   3.2584963   3.2063546   3.0880811   2.951648\n",
      "   2.6540253   2.5337727   2.3925812   2.2998738   2.2470746   2.1751192\n",
      "   1.979373    1.951314    1.8676561   1.7968857   1.663078    1.6534487\n",
      "   1.5567306   1.5544428   1.4820193   1.4110656   1.3024879   1.2884519\n",
      "   1.2498553   1.2004737   1.1713846   1.1622928   1.0706083   1.0668851]\n",
      "Pourcentage de variance expliquée : \n",
      "[0.17526789 0.16339546 0.08143137 0.06785057 0.04304498 0.03501405\n",
      " 0.03281321 0.03143178 0.02306515 0.019347   0.01811546 0.01692714\n",
      " 0.01440512 0.01377727 0.01297002 0.01228639 0.01131235 0.01107055\n",
      " 0.00923043 0.00883661 0.00815303 0.00796877 0.00751216 0.00728055\n",
      " 0.00636508 0.0062005  0.00588909 0.0055996  0.00527772 0.0050408\n",
      " 0.00467186 0.00443866 0.0042423  0.00417442 0.00402044 0.00384281\n",
      " 0.00345533 0.00329877 0.00311495 0.00299425 0.00292551 0.00283183\n",
      " 0.00257699 0.00254046 0.00243154 0.0023394  0.0021652  0.00215266\n",
      " 0.00202674 0.00202376 0.00192947 0.0018371  0.00169574 0.00167746\n",
      " 0.00162721 0.00156292 0.00152505 0.00151321 0.00139385 0.001389  ]\n",
      "Composantes principales : \n",
      "[[-0.0061627  -0.00938377 -0.01338026 ...  0.00197337  0.00111752\n",
      "   0.0005932 ]\n",
      " [ 0.03443837  0.03649849  0.03869077 ...  0.01553307  0.01504645\n",
      "   0.0171766 ]\n",
      " [-0.03704683 -0.03681963 -0.03554523 ...  0.00767607  0.00342668\n",
      "  -0.00569823]\n",
      " ...\n",
      " [ 0.07183658  0.00021485 -0.01281703 ...  0.11121676  0.11114658\n",
      "  -0.13241035]\n",
      " [-0.06520616  0.00978807  0.0273411  ...  0.032663    0.05856905\n",
      "  -0.12270103]\n",
      " [-0.08542312  0.0007608  -0.01701799 ...  0.09521864  0.05545513\n",
      "  -0.03590464]]\n",
      "Part d'inertie cumulée : \n",
      "[17.526789 33.866333 42.009468 48.794525 53.099022 56.600426 59.88175\n",
      " 63.024925 65.33144  67.26614  69.07769  70.7704   72.210915 73.58864\n",
      " 74.88564  76.11428  77.245514 78.35257  79.27561  80.15927  80.97457\n",
      " 81.77145  82.52266  83.25072  83.88722  84.50727  85.096176 85.656136\n",
      " 86.18391  86.68799  87.155174 87.59904  88.02327  88.44071  88.84276\n",
      " 89.22704  89.57258  89.90246  90.21395  90.513374 90.80592  91.0891\n",
      " 91.3468   91.600845 91.844    92.07794  92.294464 92.50973  92.7124\n",
      " 92.91478  93.10773  93.291435 93.461006 93.62875  93.79147  93.94777\n",
      " 94.10027  94.251595 94.390976 94.52988 ]\n"
     ]
    }
   ],
   "source": [
    "#variable contenant l'ACP\n",
    "pca = PCA(n_components=60)\n",
    "pca.fit(Z)\n",
    "\n",
    "print(\"Valeurs propres : \")\n",
    "print(pca.explained_variance_)\n",
    "print(\"Pourcentage de variance expliquée : \")\n",
    "print(pca.explained_variance_ratio_)\n",
    "print(\"Composantes principales : \")\n",
    "print(pca.components_)\n",
    "print(\"Part d'inertie cumulée : \")\n",
    "print(np.cumsum(pca.explained_variance_ratio_*100))"
   ]
  },
  {
   "cell_type": "markdown",
   "metadata": {},
   "source": [
    "## Traçage de la coube représentant la part d'inertie cumulée pour déterminer le nombre d'axes à garder "
   ]
  },
  {
   "cell_type": "code",
   "execution_count": 13,
   "metadata": {},
   "outputs": [
    {
     "data": {
      "image/png": "[encoded data removed]",
      "text/plain": [
       "<Figure size 432x288 with 1 Axes>"
      ]
     },
     "metadata": {
      "needs_background": "light"
     },
     "output_type": "display_data"
    }
   ],
   "source": [
    "plt.plot(np.cumsum(pca.explained_variance_ratio_)*100)\n",
    "plt.axhline(y=90, color='r', linestyle='--', label='90%')\n",
    "plt.title('Inertie cumulée')\n",
    "plt.legend()\n",
    "plt.show()"
   ]
  },
  {
   "cell_type": "markdown",
   "metadata": {},
   "source": [
    "# On conserve 40 axes pour avoir +90%  de part d'inertie expliquée"
   ]
  },
  {
   "cell_type": "code",
   "execution_count": 14,
   "metadata": {},
   "outputs": [],
   "source": [
    "#variable contenant le PCA gardant 20 axes\n",
    "pca2 = PCA(n_components=20)\n",
    "pca2.fit(Z)\n",
    "\n",
    "#variables contenant les données de dimensions réduites\n",
    "base_reshaped = pca2.transform(Z)"
   ]
  },
  {
   "cell_type": "markdown",
   "metadata": {},
   "source": [
    "## Réalisation de la diminution de dimensions pour les requêtes"
   ]
  },
  {
   "cell_type": "code",
   "execution_count": 15,
   "metadata": {},
   "outputs": [],
   "source": [
    "scaler2 = StandardScaler()\n",
    "scaler2.fit(base)\n",
    "Z2 = scaler2.transform(queries)\n",
    "pca3= PCA(n_components=20)\n",
    "pca3.fit(Z2)\n",
    "\n",
    "#variables contenant les données de dimensions réduites\n",
    "queries_reshaped=pca3.transform(Z2)"
   ]
  },
  {
   "cell_type": "markdown",
   "metadata": {},
   "source": [
    "#"
   ]
  }
 ],
 "metadata": {
  "kernelspec": {
   "display_name": "Python 3",
   "language": "python",
   "name": "python3"
  },
  "language_info": {
   "codemirror_mode": {
    "name": "ipython",
    "version": 3
   },
   "file_extension": ".py",
   "mimetype": "text/x-python",
   "name": "python",
   "nbconvert_exporter": "python",
   "pygments_lexer": "ipython3",
   "version": "3.8.5"
  }
 },
 "nbformat": 4,
 "nbformat_minor": 4
}
