{
 "cells": [
  {
   "cell_type": "code",
   "execution_count": 1,
   "metadata": {},
   "outputs": [],
   "source": [
    "import numpy as np\n",
    "import matplotlib.pyplot as plt\n",
    "from scipy import linalg\n",
    "from sklearn.decomposition import PCA\n",
    "from sklearn.preprocessing import StandardScaler"
   ]
  },
  {
   "cell_type": "code",
   "execution_count": 2,
   "metadata": {},
   "outputs": [
    {
     "name": "stdout",
     "output_type": "stream",
     "text": [
      "[[ 0.5186345   0.45883688  0.80803156 ... -0.03590943 -0.05170588\n",
      "   0.15346777]\n",
      " [-0.68069035 -0.62725276 -0.7398418  ...  0.04267557  0.21944463\n",
      "   0.07149704]\n",
      " [ 0.6639813   0.33443546  0.38170815 ... -0.11710391 -0.18388332\n",
      "  -0.09648192]\n",
      " ...\n",
      " [-0.2377859  -0.35220212 -0.41045907 ... -0.4520472  -0.41217086\n",
      "  -0.3944387 ]\n",
      " [-0.32879603 -0.36519706 -0.35208988 ... -0.50640905 -0.51747954\n",
      "  -0.4836887 ]\n",
      " [-0.67493737 -0.6237077  -0.71863145 ... -0.57078    -0.558857\n",
      "  -0.58604234]]\n"
     ]
    }
   ],
   "source": [
    "base = np.load(\"./descripteur_img.npy\")\n",
    "queries = np.load(\"./descripteur_queries.npy\")\n",
    "scaler = StandardScaler()\n",
    "scaler.fit(base)\n",
    "Z = scaler.transform(base)\n",
    "print(Z)"
   ]
  },
  {
   "cell_type": "code",
   "execution_count": 9,
   "metadata": {},
   "outputs": [
    {
     "name": "stdout",
     "output_type": "stream",
     "text": [
      "Valeurs propres : \n",
      "[134.62251   125.503525   62.547153   52.115707   33.0627     26.894167\n",
      "  25.203709   24.1426     17.716217   14.860336   13.914407   13.001656\n",
      "  11.064505   10.582248    9.96223     9.437135    8.688968    8.503243\n",
      "   7.089863    6.7873583   6.2623067   6.12078     5.770055    5.5921655\n",
      "   4.8889904   4.7625732   4.523381    4.3010283   4.0537963   3.8718169\n",
      "   3.5884285   3.4093096   3.258482    3.2063465   3.0880773   2.9516191\n",
      "   2.6539114   2.533682    2.3916988   2.2990103]\n",
      "Pourcentage de variance expliquée : \n",
      "[0.17526785 0.16339564 0.08143144 0.06785052 0.04304501 0.03501407\n",
      " 0.03281323 0.03143175 0.02306511 0.01934698 0.01811546 0.01692712\n",
      " 0.01440511 0.01377725 0.01297003 0.0122864  0.01131235 0.01107055\n",
      " 0.00923044 0.0088366  0.00815303 0.00796877 0.00751215 0.00728056\n",
      " 0.00636508 0.00620049 0.00588908 0.0055996  0.00527772 0.0050408\n",
      " 0.00467185 0.00443865 0.00424229 0.00417441 0.00402043 0.00384277\n",
      " 0.00345518 0.00329865 0.0031138  0.00299313]\n",
      "Composantes principales : \n",
      "[[-0.00616288 -0.00938386 -0.01338035 ...  0.00197335  0.0011175\n",
      "   0.00059318]\n",
      " [ 0.03443849  0.03649843  0.03869072 ...  0.01553309  0.01504647\n",
      "   0.01717662]\n",
      " [-0.03704683 -0.03681957 -0.03554519 ...  0.00767603  0.00342664\n",
      "  -0.00569829]\n",
      " ...\n",
      " [ 0.00895031 -0.0098811  -0.00740612 ...  0.02330429  0.00340939\n",
      "  -0.02183633]\n",
      " [ 0.05403353  0.04977727  0.04225863 ...  0.05867195  0.05928656\n",
      "   0.02731211]\n",
      " [-0.09398244 -0.04265343 -0.00660033 ...  0.03784042  0.08267052\n",
      "   0.16107666]]\n",
      "Part d'inertie cumulée : \n",
      "[17.526785 33.86635  42.00949  48.794544 53.099045 56.600452 59.881775\n",
      " 63.024952 65.33147  67.26617  69.07771  70.770424 72.21094  73.58866\n",
      " 74.885666 76.1143   77.24554  78.35259  79.275635 80.159294 80.974594\n",
      " 81.77147  82.52268  83.25074  83.887245 84.50729  85.0962   85.65616\n",
      " 86.18393  86.68801  87.1552   87.59906  88.023285 88.44073  88.84277\n",
      " 89.22705  89.57257  89.902435 90.21381  90.51313 ]\n"
     ]
    }
   ],
   "source": [
    "pca = PCA(n_components=40)\n",
    "pca.fit(Z)\n",
    "\n",
    "print(\"Valeurs propres : \")\n",
    "print(pca.explained_variance_)\n",
    "print(\"Pourcentage de variance expliquée : \")\n",
    "print(pca.explained_variance_ratio_)\n",
    "print(\"Composantes principales : \")\n",
    "print(pca.components_)\n",
    "print(\"Part d'inertie cumulée : \")\n",
    "print(np.cumsum(pca.explained_variance_ratio_*100))"
   ]
  },
  {
   "cell_type": "code",
   "execution_count": 16,
   "metadata": {},
   "outputs": [
    {
     "data": {
      "image/png": "[encoded data removed]",
      "text/plain": [
       "<Figure size 432x288 with 1 Axes>"
      ]
     },
     "metadata": {
      "needs_background": "light"
     },
     "output_type": "display_data"
    }
   ],
   "source": [
    "plt.plot(np.cumsum(pca.explained_variance_ratio_)*100)\n",
    "plt.axhline(y=80, color='r', linestyle='--', label='80%')\n",
    "plt.title('Inertie cumulée')\n",
    "plt.legend()\n",
    "plt.show()"
   ]
  },
  {
   "cell_type": "markdown",
   "metadata": {},
   "source": [
    "# On conserve 20 axes pour avoir +8°% d'inertie"
   ]
  },
  {
   "cell_type": "code",
   "execution_count": 13,
   "metadata": {},
   "outputs": [
    {
     "name": "stdout",
     "output_type": "stream",
     "text": [
      "[[-18.85305      1.6868466    1.7124716  ...   0.13940829  -1.2232822\n",
      "   -1.5359874 ]\n",
      " [  7.0243034  -17.61792     -9.36029    ...  -0.66752934  -0.25912198\n",
      "    1.6505346 ]\n",
      " [ 11.960827    20.011581    11.746977   ...  -4.019621     1.5099444\n",
      "    0.59655106]\n",
      " ...\n",
      " [  8.443428   -13.213512    -9.6509075  ...  -1.6638014   -3.888854\n",
      "   -5.2761593 ]\n",
      " [-17.905094     0.5146978    6.2718225  ...   2.1143234    2.1253393\n",
      "    1.4139352 ]\n",
      " [-13.656158    14.675798    -1.1032689  ...  -2.8269382   -1.2857188\n",
      "   -2.09552   ]]\n"
     ]
    }
   ],
   "source": [
    "pca2 = PCA(n_components=20)\n",
    "pca2.fit(Z)\n",
    "base_reshaped = pca2.transform(Z)\n",
    "print(pca2.transform(Z))"
   ]
  },
  {
   "cell_type": "code",
   "execution_count": 14,
   "metadata": {},
   "outputs": [],
   "source": [
    "scaler2 = StandardScaler()\n",
    "scaler2.fit(base)\n",
    "Z2 = scaler2.transform(queries)\n",
    "pca3= PCA(n_components=20)\n",
    "pca3.fit(Z2)\n",
    "queries_reshaped=pca3.transform(Z2)"
   ]
  },
  {
   "cell_type": "code",
   "execution_count": null,
   "metadata": {},
   "outputs": [],
   "source": []
  }
 ],
 "metadata": {
  "kernelspec": {
   "display_name": "Python 3",
   "language": "python",
   "name": "python3"
  },
  "language_info": {
   "codemirror_mode": {
    "name": "ipython",
    "version": 3
   },
   "file_extension": ".py",
   "mimetype": "text/x-python",
   "name": "python",
   "nbconvert_exporter": "python",
   "pygments_lexer": "ipython3",
   "version": "3.8.5"
  }
 },
 "nbformat": 4,
 "nbformat_minor": 4
}
