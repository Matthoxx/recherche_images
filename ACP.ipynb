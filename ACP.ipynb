{
 "cells": [
  {
   "cell_type": "code",
   "execution_count": 3,
   "metadata": {},
   "outputs": [],
   "source": [
    "import numpy as np\n",
    "import matplotlib.pyplot as plt\n",
    "from scipy import linalg\n",
    "from sklearn.decomposition import PCA\n",
    "from sklearn.preprocessing import StandardScaler"
   ]
  },
  {
   "cell_type": "code",
   "execution_count": 4,
   "metadata": {},
   "outputs": [
    {
     "name": "stdout",
     "output_type": "stream",
     "text": [
      "[[ 0.5186345   0.45883688  0.80803156 ... -0.03590943 -0.05170588\n",
      "   0.15346777]\n",
      " [-0.68069035 -0.62725276 -0.7398418  ...  0.04267557  0.21944463\n",
      "   0.07149704]\n",
      " [ 0.6639813   0.33443546  0.38170815 ... -0.11710391 -0.18388332\n",
      "  -0.09648192]\n",
      " ...\n",
      " [-0.2377859  -0.35220212 -0.41045907 ... -0.4520472  -0.41217086\n",
      "  -0.3944387 ]\n",
      " [-0.32879603 -0.36519706 -0.35208988 ... -0.50640905 -0.51747954\n",
      "  -0.4836887 ]\n",
      " [-0.67493737 -0.6237077  -0.71863145 ... -0.57078    -0.558857\n",
      "  -0.58604234]]\n"
     ]
    }
   ],
   "source": [
    "base = np.load(\"./descripteur_img.npy\")\n",
    "queries = np.load(\"./descripteur_queries.npy\")\n",
    "scaler = StandardScaler()\n",
    "scaler.fit(base)\n",
    "Z = scaler.transform(base)\n",
    "print(Z)"
   ]
  },
  {
   "cell_type": "code",
   "execution_count": 10,
   "metadata": {},
   "outputs": [
    {
     "name": "stdout",
     "output_type": "stream",
     "text": [
      "Valeurs propres : \n",
      "[134.62242   125.50342    62.547066   52.11572    33.06269    26.89416\n",
      "  25.203665   24.142622   17.71623    14.860375   13.914435   13.001665\n",
      "  11.064521   10.582263    9.962228    9.437135    8.688966    8.503245\n",
      "   7.089857    6.787359    6.2623034   6.120781    5.7700534   5.5921626\n",
      "   4.888989    4.762572    4.5233793   4.301025    4.0537944   3.8718073\n",
      "   3.5884209   3.4093049   3.2584872   3.2063413   3.088057    2.9515946\n",
      "   2.653664    2.53337     2.3908665   2.2961123]\n",
      "Pourcentage de variance expliquée : \n",
      "[0.17526773 0.16339551 0.08143132 0.06785054 0.043045   0.03501407\n",
      " 0.03281318 0.03143178 0.02306513 0.01934703 0.01811549 0.01692714\n",
      " 0.01440513 0.01377727 0.01297003 0.0122864  0.01131235 0.01107055\n",
      " 0.00923043 0.0088366  0.00815302 0.00796877 0.00751215 0.00728055\n",
      " 0.00636508 0.00620049 0.00588908 0.00559959 0.00527772 0.00504079\n",
      " 0.00467184 0.00443864 0.00424229 0.0041744  0.00402041 0.00384274\n",
      " 0.00345486 0.00329825 0.00311272 0.00298936]\n",
      "Composantes principales : \n",
      "[[-0.00616273 -0.00938362 -0.01338018 ...  0.00197342  0.00111756\n",
      "   0.00059324]\n",
      " [ 0.03443837  0.03649846  0.03869076 ...  0.01553308  0.01504647\n",
      "   0.0171766 ]\n",
      " [-0.03704672 -0.03681951 -0.03554517 ...  0.00767605  0.00342665\n",
      "  -0.00569826]\n",
      " ...\n",
      " [ 0.00727966 -0.01004145 -0.00733629 ...  0.02256791  0.00325516\n",
      "  -0.01993936]\n",
      " [ 0.0578634   0.05169043  0.04287772 ...  0.06165843  0.05951983\n",
      "   0.02462922]\n",
      " [ 0.08681523  0.04045131  0.00592005 ... -0.04464946 -0.08461234\n",
      "  -0.15427268]]\n",
      "Part d'inertie cumulée : \n",
      "[17.526773 33.866325 42.009457 48.79451  53.09901  56.600418 59.881737\n",
      " 63.024914 65.33143  67.26613  69.077675 70.770386 72.2109   73.58862\n",
      " 74.88563  76.114265 77.2455   78.352554 79.2756   80.159256 80.974556\n",
      " 81.77143  82.522644 83.2507   83.88721  84.507256 85.09616  85.65612\n",
      " 86.18389  86.68797  87.15516  87.59902  88.023254 88.4407   88.842735\n",
      " 89.22701  89.5725   89.90233  90.2136   90.512535]\n"
     ]
    }
   ],
   "source": [
    "pca = PCA(n_components=40)\n",
    "pca.fit(Z)\n",
    "\n",
    "print(\"Valeurs propres : \")\n",
    "print(pca.explained_variance_)\n",
    "print(\"Pourcentage de variance expliquée : \")\n",
    "print(pca.explained_variance_ratio_)\n",
    "print(\"Composantes principales : \")\n",
    "print(pca.components_)\n",
    "print(\"Part d'inertie cumulée : \")\n",
    "print(np.cumsum(pca.explained_variance_ratio_*100))"
   ]
  },
  {
   "cell_type": "code",
   "execution_count": 11,
   "metadata": {},
   "outputs": [
    {
     "data": {
      "image/png": "[encoded data removed]",
      "text/plain": [
       "<Figure size 432x288 with 1 Axes>"
      ]
     },
     "metadata": {
      "needs_background": "light"
     },
     "output_type": "display_data"
    }
   ],
   "source": [
    "plt.plot(np.cumsum(pca.explained_variance_ratio_)*100)\n",
    "plt.axhline(y=80, color='r', linestyle='--', label='80%')\n",
    "plt.title('Inertie cumulée')\n",
    "plt.legend()\n",
    "plt.show()"
   ]
  },
  {
   "cell_type": "markdown",
   "metadata": {},
   "source": [
    "# On conserve 20 axes pour avoir +8°% d'inertie"
   ]
  },
  {
   "cell_type": "code",
   "execution_count": 8,
   "metadata": {},
   "outputs": [
    {
     "name": "stdout",
     "output_type": "stream",
     "text": [
      "[[-18.853071     1.686553     1.7124763  ...   0.14010471  -1.223439\n",
      "   -1.5378205 ]\n",
      " [  7.0245724  -17.61781     -9.360323   ...  -0.6673877   -0.25458857\n",
      "    1.6520945 ]\n",
      " [ 11.96052     20.011757    11.74707    ...  -4.01746      1.5111929\n",
      "    0.5711578 ]\n",
      " ...\n",
      " [  8.443625   -13.213373    -9.650882   ...  -1.6690803   -3.8684175\n",
      "   -5.2537403 ]\n",
      " [-17.905098     0.5144151    6.2718053  ...   2.1145585    2.1332965\n",
      "    1.4181437 ]\n",
      " [-13.656382    14.675587    -1.1033182  ...  -2.8269618   -1.2760884\n",
      "   -2.0770478 ]]\n"
     ]
    }
   ],
   "source": [
    "pca2 = PCA(n_components=20)\n",
    "pca2.fit(Z)\n",
    "base_reshaped = pca2.transform(Z)\n",
    "print(pca2.transform(Z))"
   ]
  },
  {
   "cell_type": "code",
   "execution_count": 16,
   "metadata": {},
   "outputs": [],
   "source": [
    "scaler2 = StandardScaler()\n",
    "scaler2.fit(base)\n",
    "Z2 = scaler2.transform(queries)\n",
    "pca3= PCA(n_components=20)\n",
    "pca3.fit(Z2)\n",
    "queries_reshaped=pca3.transform(Z2)"
   ]
  },
  {
   "cell_type": "code",
   "execution_count": 17,
   "metadata": {},
   "outputs": [
    {
     "ename": "SyntaxError",
     "evalue": "invalid syntax (<ipython-input-17-66af9409da60>, line 2)",
     "output_type": "error",
     "traceback": [
      "\u001b[1;36m  File \u001b[1;32m\"<ipython-input-17-66af9409da60>\"\u001b[1;36m, line \u001b[1;32m2\u001b[0m\n\u001b[1;33m    np.save(\"./queries_acp\")\u001b[0m\n\u001b[1;37m    ^\u001b[0m\n\u001b[1;31mSyntaxError\u001b[0m\u001b[1;31m:\u001b[0m invalid syntax\n"
     ]
    }
   ],
   "source": [
    "np.save(\"./descripteur_img_acp\", base_reshaped\n",
    "np.save(\"./queries_acp\",qu)"
   ]
  },
  {
   "cell_type": "code",
   "execution_count": null,
   "metadata": {},
   "outputs": [],
   "source": []
  }
 ],
 "metadata": {
  "kernelspec": {
   "display_name": "Python 3",
   "language": "python",
   "name": "python3"
  },
  "language_info": {
   "codemirror_mode": {
    "name": "ipython",
    "version": 3
   },
   "file_extension": ".py",
   "mimetype": "text/x-python",
   "name": "python",
   "nbconvert_exporter": "python",
   "pygments_lexer": "ipython3",
   "version": "3.8.5"
  }
 },
 "nbformat": 4,
 "nbformat_minor": 4
}
