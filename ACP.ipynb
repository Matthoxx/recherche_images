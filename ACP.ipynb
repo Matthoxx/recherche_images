{
 "cells": [
  {
   "cell_type": "markdown",
   "metadata": {},
   "source": [
    "# Notebook présentant la méthode utilisée pour réduire les données avec une ACP"
   ]
  },
  {
   "cell_type": "code",
   "execution_count": 16,
   "metadata": {},
   "outputs": [],
   "source": [
    "import numpy as np\n",
    "import matplotlib.pyplot as plt\n",
    "from scipy import linalg\n",
    "from sklearn.decomposition import PCA\n",
    "from sklearn.preprocessing import StandardScaler"
   ]
  },
  {
   "cell_type": "markdown",
   "metadata": {},
   "source": [
    "## import des images et normalisation des données grâce à Standard Scaler"
   ]
  },
  {
   "cell_type": "code",
   "execution_count": 17,
   "metadata": {},
   "outputs": [
    {
     "name": "stdout",
     "output_type": "stream",
     "text": [
      "[[ 0.5186345   0.45883688  0.80803156 ... -0.03590943 -0.05170588\n",
      "   0.15346777]\n",
      " [-0.68069035 -0.62725276 -0.7398418  ...  0.04267557  0.21944463\n",
      "   0.07149704]\n",
      " [ 0.6639813   0.33443546  0.38170815 ... -0.11710391 -0.18388332\n",
      "  -0.09648192]\n",
      " ...\n",
      " [-0.2377859  -0.35220212 -0.41045907 ... -0.4520472  -0.41217086\n",
      "  -0.3944387 ]\n",
      " [-0.32879603 -0.36519706 -0.35208988 ... -0.50640905 -0.51747954\n",
      "  -0.4836887 ]\n",
      " [-0.67493737 -0.6237077  -0.71863145 ... -0.57078    -0.558857\n",
      "  -0.58604234]]\n"
     ]
    }
   ],
   "source": [
    "base = np.load(\"./descripteur_img.npy\")\n",
    "queries = np.load(\"./descripteur_queries.npy\")\n",
    "scaler = StandardScaler()\n",
    "scaler.fit(base)\n",
    "\n",
    "#np array contenant les données normalisées\n",
    "Z = scaler.transform(base)\n",
    "print(Z)"
   ]
  },
  {
   "cell_type": "markdown",
   "metadata": {},
   "source": [
    "## Réalisation d'une ACP gardant 60 axes et calculs des valeurs propres et des composantes principales"
   ]
  },
  {
   "cell_type": "code",
   "execution_count": 18,
   "metadata": {},
   "outputs": [
    {
     "name": "stdout",
     "output_type": "stream",
     "text": [
      "Valeurs propres : \n",
      "[134.62242   125.50333    62.54713    52.115757   33.062675   26.89414\n",
      "  25.203661   24.142612   17.716223   14.860363   13.914422   13.001662\n",
      "  11.064514   10.582261    9.962225    9.437127    8.688964    8.503243\n",
      "   7.089859    6.787357    6.2623024   6.12078     5.7700567   5.5921593\n",
      "   4.888992    4.7625756   4.523384    4.3010316   4.053797    3.871818\n",
      "   3.5884337   3.4093137   3.2584932   3.2063546   3.0880804   2.9516456\n",
      "   2.654027    2.5337744   2.3925807   2.2998717   2.2470737   2.1751196\n",
      "   1.9793743   1.951313    1.8676559   1.7968873   1.6630859   1.6534477\n",
      "   1.5567389   1.5544451   1.4820471   1.4111394   1.3024676   1.2885363\n",
      "   1.2499468   1.2003586   1.171415    1.1623367   1.0695733   1.0655575]\n",
      "Pourcentage de variance expliquée : \n",
      "[0.17526773 0.16339539 0.08143141 0.06785059 0.04304498 0.03501404\n",
      " 0.03281317 0.03143177 0.02306512 0.01934702 0.01811548 0.01692713\n",
      " 0.01440512 0.01377727 0.01297003 0.01228639 0.01131234 0.01107055\n",
      " 0.00923043 0.0088366  0.00815302 0.00796877 0.00751216 0.00728055\n",
      " 0.00636508 0.0062005  0.00588909 0.0055996  0.00527772 0.0050408\n",
      " 0.00467186 0.00443866 0.0042423  0.00417442 0.00402044 0.00384281\n",
      " 0.00345533 0.00329877 0.00311495 0.00299425 0.00292551 0.00283183\n",
      " 0.00257699 0.00254045 0.00243154 0.00233941 0.00216521 0.00215266\n",
      " 0.00202675 0.00202376 0.00192951 0.00183719 0.00169571 0.00167757\n",
      " 0.00162733 0.00156277 0.00152509 0.00151327 0.0013925  0.00138727]\n",
      "Composantes principales : \n",
      "[[-0.00616273 -0.00938362 -0.01338012 ...  0.00197342  0.00111757\n",
      "   0.00059325]\n",
      " [ 0.03443831  0.03649846  0.03869076 ...  0.01553309  0.01504647\n",
      "   0.01717661]\n",
      " [-0.03704687 -0.03681972 -0.03554541 ...  0.00767606  0.00342666\n",
      "  -0.00569826]\n",
      " ...\n",
      " [ 0.07201835 -0.00039528 -0.01397514 ...  0.11118619  0.11138657\n",
      "  -0.13521826]\n",
      " [-0.07474357  0.01205367  0.02625033 ...  0.04101525  0.06300052\n",
      "  -0.12511034]\n",
      " [-0.0808434   0.00654826 -0.01869588 ...  0.09171459  0.04594389\n",
      "  -0.02636248]]\n",
      "Part d'inertie cumulée : \n",
      "[17.526773 33.86631  42.009453 48.79451  53.099007 56.60041  59.88173\n",
      " 63.024906 65.33142  67.26612  69.07767  70.77038  72.21089  73.588615\n",
      " 74.88562  76.11426  77.24549  78.35255  79.27559  80.15925  80.97455\n",
      " 81.77142  82.52264  83.250694 83.8872   84.50725  85.09615  85.65611\n",
      " 86.18388  86.687965 87.15515  87.599014 88.02325  88.44069  88.842735\n",
      " 89.22701  89.57255  89.90243  90.21392  90.51334  90.80589  91.08907\n",
      " 91.34677  91.600815 91.84397  92.07791  92.29443  92.5097   92.71237\n",
      " 92.91475  93.1077   93.29141  93.46098  93.62874  93.79147  93.947754\n",
      " 94.100266 94.251595 94.39085  94.52957 ]\n"
     ]
    }
   ],
   "source": [
    "#variable contenant l'ACP\n",
    "pca = PCA(n_components=60)\n",
    "pca.fit(Z)\n",
    "\n",
    "print(\"Valeurs propres : \")\n",
    "print(pca.explained_variance_)\n",
    "print(\"Pourcentage de variance expliquée : \")\n",
    "print(pca.explained_variance_ratio_)\n",
    "print(\"Composantes principales : \")\n",
    "print(pca.components_)\n",
    "print(\"Part d'inertie cumulée : \")\n",
    "print(np.cumsum(pca.explained_variance_ratio_*100))"
   ]
  },
  {
   "cell_type": "markdown",
   "metadata": {},
   "source": [
    "## Traçage de la coube représentant la part d'inertie cumulée pour déterminer le nombre d'axes à garder "
   ]
  },
  {
   "cell_type": "code",
   "execution_count": 19,
   "metadata": {},
   "outputs": [
    {
     "data": {
      "image/png": "[encoded data removed]",
      "text/plain": [
       "<Figure size 432x288 with 1 Axes>"
      ]
     },
     "metadata": {
      "needs_background": "light"
     },
     "output_type": "display_data"
    }
   ],
   "source": [
    "plt.plot(np.cumsum(pca.explained_variance_ratio_)*100)\n",
    "plt.axhline(y=90, color='r', linestyle='--', label='90%')\n",
    "plt.title('Inertie cumulée')\n",
    "plt.legend()\n",
    "plt.show()"
   ]
  },
  {
   "cell_type": "markdown",
   "metadata": {},
   "source": [
    "# On conserve 40 axes pour avoir +90%  de part d'inertie expliquée"
   ]
  },
  {
   "cell_type": "code",
   "execution_count": 20,
   "metadata": {},
   "outputs": [],
   "source": [
    "#variable contenant le PCA gardant 20 axes\n",
    "pca2 = PCA(n_components=20)\n",
    "pca2.fit(Z)\n",
    "\n",
    "#variables contenant les données de dimensions réduites\n",
    "base_reshaped = pca2.transform(Z)"
   ]
  },
  {
   "cell_type": "markdown",
   "metadata": {},
   "source": [
    "## Réalisation de la diminution de dimensions pour les requêtes"
   ]
  },
  {
   "cell_type": "code",
   "execution_count": 21,
   "metadata": {},
   "outputs": [],
   "source": [
    "scaler2 = StandardScaler()\n",
    "scaler2.fit(base)\n",
    "Z2 = scaler2.transform(queries)\n",
    "pca3= PCA(n_components=20)\n",
    "pca3.fit(Z2)\n",
    "\n",
    "#variables contenant les données de dimensions réduites\n",
    "queries_reshaped=pca3.transform(Z2)"
   ]
  },
  {
   "cell_type": "markdown",
   "metadata": {},
   "source": [
    "## sauvegarde de nos données dans des fichiers numpy"
   ]
  },
  {
   "cell_type": "code",
   "execution_count": 22,
   "metadata": {},
   "outputs": [],
   "source": [
    "np.save(\"descripteur_img_acp\", base_reshaped)\n",
    "np.save(\"queries_acp\", queries_reshaped)\n"
   ]
  }
 ],
 "metadata": {
  "kernelspec": {
   "display_name": "Python 3",
   "language": "python",
   "name": "python3"
  },
  "language_info": {
   "codemirror_mode": {
    "name": "ipython",
    "version": 3
   },
   "file_extension": ".py",
   "mimetype": "text/x-python",
   "name": "python",
   "nbconvert_exporter": "python",
   "pygments_lexer": "ipython3",
   "version": "3.8.5"
  }
 },
 "nbformat": 4,
 "nbformat_minor": 4
}
